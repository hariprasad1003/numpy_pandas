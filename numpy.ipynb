{
 "cells": [
  {
   "cell_type": "markdown",
   "id": "green-rating",
   "metadata": {},
   "source": [
    "# Numpy"
   ]
  },
  {
   "cell_type": "markdown",
   "id": "interpreted-landing",
   "metadata": {},
   "source": [
    "NumPy module works with the numerical data. NumPy library provides objects for multi-dimensional arrays. NumPy consumes less memory as compared to Pandas."
   ]
  },
  {
   "cell_type": "code",
   "execution_count": 1,
   "id": "intended-completion",
   "metadata": {},
   "outputs": [
    {
     "name": "stdout",
     "output_type": "stream",
     "text": [
      "1.19.5\n"
     ]
    }
   ],
   "source": [
    "import numpy as np\n",
    "\n",
    "#Printing version number\n",
    "\n",
    "print(np.__version__)"
   ]
  },
  {
   "cell_type": "code",
   "execution_count": 2,
   "id": "lesser-click",
   "metadata": {},
   "outputs": [
    {
     "data": {
      "text/plain": [
       "array([1, 2, 3, 4, 5])"
      ]
     },
     "execution_count": 2,
     "metadata": {},
     "output_type": "execute_result"
    }
   ],
   "source": [
    "#Creating a 1 dimensional array\n",
    "\n",
    "array_1d = np.array([1, 2, 3, 4, 5])\n",
    "array_1d"
   ]
  },
  {
   "cell_type": "code",
   "execution_count": 17,
   "id": "varied-swaziland",
   "metadata": {},
   "outputs": [
    {
     "name": "stdout",
     "output_type": "stream",
     "text": [
      "Array is of type:  <class 'numpy.ndarray'>\n",
      "No. of dimensions:  1\n",
      "Shape of array:  (5,)\n",
      "Size of array:  5\n",
      "Array stores elements of type:  int64\n"
     ]
    }
   ],
   "source": [
    "#Printing type of array object \n",
    "\n",
    "print(\"Array is of type: \", type(array_1d)) \n",
    "  \n",
    "#Printing array dimensions (axes)\n",
    "\n",
    "print(\"No. of dimensions: \", array_1d.ndim) \n",
    "  \n",
    "#Printing shape of array \n",
    "\n",
    "print(\"Shape of array: \", array_1d.shape) \n",
    "  \n",
    "#Printing size (total number of elements) of array \n",
    "\n",
    "print(\"Size of array: \", array_1d.size) \n",
    "  \n",
    "#Printing type of elements in array \n",
    "\n",
    "print(\"Array stores elements of type: \", array_1d.dtype)"
   ]
  },
  {
   "cell_type": "code",
   "execution_count": 5,
   "id": "covered-affairs",
   "metadata": {},
   "outputs": [
    {
     "data": {
      "text/plain": [
       "array([[ 3,  1,  4,  2],\n",
       "       [ 6,  8,  5,  7],\n",
       "       [12,  9, 11, 10]])"
      ]
     },
     "execution_count": 5,
     "metadata": {},
     "output_type": "execute_result"
    }
   ],
   "source": [
    "#Creating a multi dimensional array\n",
    "\n",
    "array_md = np.array([[3, 1, 4, 2], [6, 8, 5, 7], [12, 9, 11, 10]])\n",
    "array_md"
   ]
  },
  {
   "cell_type": "code",
   "execution_count": 7,
   "id": "eastern-software",
   "metadata": {},
   "outputs": [
    {
     "data": {
      "text/plain": [
       "array([[ 1,  2,  3,  4],\n",
       "       [ 5,  6,  7,  8],\n",
       "       [ 9, 10, 11, 12]])"
      ]
     },
     "execution_count": 7,
     "metadata": {},
     "output_type": "execute_result"
    }
   ],
   "source": [
    "#Sorting a array\n",
    "\n",
    "np.sort(array_md)"
   ]
  },
  {
   "cell_type": "code",
   "execution_count": 3,
   "id": "choice-parcel",
   "metadata": {},
   "outputs": [
    {
     "data": {
      "text/plain": [
       "(array([1, 2, 3, 4, 5, 6]), array([5, 6, 7, 8]))"
      ]
     },
     "execution_count": 3,
     "metadata": {},
     "output_type": "execute_result"
    }
   ],
   "source": [
    "a = np.array([1, 2, 3, 4, 5, 6])\n",
    "b = np.array([5, 6, 7, 8])\n",
    "a, b"
   ]
  },
  {
   "cell_type": "code",
   "execution_count": 34,
   "id": "industrial-gardening",
   "metadata": {},
   "outputs": [
    {
     "data": {
      "text/plain": [
       "array([1, 2, 3, 4, 5, 5, 6, 7, 8])"
      ]
     },
     "execution_count": 34,
     "metadata": {},
     "output_type": "execute_result"
    }
   ],
   "source": [
    "#Adding 2 Array into One Array\n",
    "\n",
    "np.concatenate((a, b))"
   ]
  },
  {
   "cell_type": "code",
   "execution_count": 4,
   "id": "apparent-marker",
   "metadata": {},
   "outputs": [
    {
     "data": {
      "text/plain": [
       "array([5, 6])"
      ]
     },
     "execution_count": 4,
     "metadata": {},
     "output_type": "execute_result"
    }
   ],
   "source": [
    "#Prints the common value between two arrays\n",
    "\n",
    "np.intersect1d(a,b)"
   ]
  },
  {
   "cell_type": "code",
   "execution_count": 37,
   "id": "refined-crazy",
   "metadata": {},
   "outputs": [
    {
     "data": {
      "text/plain": [
       "array([1, 2, 3, 4])"
      ]
     },
     "execution_count": 37,
     "metadata": {},
     "output_type": "execute_result"
    }
   ],
   "source": [
    "#Removes common values\n",
    "\n",
    "np.setdiff1d(a,b)"
   ]
  },
  {
   "cell_type": "code",
   "execution_count": 13,
   "id": "canadian-melissa",
   "metadata": {},
   "outputs": [
    {
     "data": {
      "text/plain": [
       "array([-1,  2, -1,  4, -1])"
      ]
     },
     "execution_count": 13,
     "metadata": {},
     "output_type": "execute_result"
    }
   ],
   "source": [
    "#Replacing all odd numbers in arr with -1\n",
    "\n",
    "array_1d[array_1d % 2 == 1] = -1\n",
    "array_1d"
   ]
  },
  {
   "cell_type": "code",
   "execution_count": 6,
   "id": "automated-blank",
   "metadata": {},
   "outputs": [
    {
     "data": {
      "text/plain": [
       "array([ 0,  1,  2,  3,  4,  5,  6,  7,  8,  9, 10, 11, 12, 13, 14])"
      ]
     },
     "execution_count": 6,
     "metadata": {},
     "output_type": "execute_result"
    }
   ],
   "source": [
    "#Converting 1D Array to Multi dimensional Array\n",
    "\n",
    "arr = np.arange(15)\n",
    "arr"
   ]
  },
  {
   "cell_type": "code",
   "execution_count": 39,
   "id": "cooperative-confirmation",
   "metadata": {},
   "outputs": [
    {
     "data": {
      "text/plain": [
       "array([0, 1, 2, 3, 4, 5, 6, 7, 8, 9])"
      ]
     },
     "execution_count": 39,
     "metadata": {},
     "output_type": "execute_result"
    }
   ],
   "source": [
    "#Multi dimensional array into 1 dimensional\n",
    "\n",
    "arr.reshape(-1)"
   ]
  },
  {
   "cell_type": "code",
   "execution_count": 8,
   "id": "convenient-punishment",
   "metadata": {},
   "outputs": [
    {
     "data": {
      "text/plain": [
       "array([7])"
      ]
     },
     "execution_count": 8,
     "metadata": {},
     "output_type": "execute_result"
    }
   ],
   "source": [
    "#Slicing 2D Array\n",
    "\n",
    "array_slice = np.array([[1, 2, 3, 4], [5, 6, 7, 8]])\n",
    "\n",
    "array_slice[1, 2:3]"
   ]
  },
  {
   "cell_type": "code",
   "execution_count": 9,
   "id": "german-roulette",
   "metadata": {},
   "outputs": [
    {
     "data": {
      "text/plain": [
       "(array([2]),)"
      ]
     },
     "execution_count": 9,
     "metadata": {},
     "output_type": "execute_result"
    }
   ],
   "source": [
    "#np.where return the indices if the given condition is satisfied\n",
    "\n",
    "array_one = np.array([1, 2, 3, 4, 5])\n",
    "x = np.where((array_one > 2) & (array_one < 4))\n",
    "x"
   ]
  },
  {
   "cell_type": "code",
   "execution_count": 12,
   "id": "intense-station",
   "metadata": {},
   "outputs": [
    {
     "name": "stdout",
     "output_type": "stream",
     "text": [
      "Original Array: \n",
      " [[0 1]\n",
      " [2 3]\n",
      " [4 5]\n",
      " [6 7]\n",
      " [8 9]]\n",
      "Flipped Array: \n",
      " [[8 9]\n",
      " [6 7]\n",
      " [4 5]\n",
      " [2 3]\n",
      " [0 1]]\n"
     ]
    }
   ],
   "source": [
    "array_flip = np.arange(10).reshape(5,2)\n",
    "\n",
    "flip = np.flip(array_flip, 0)\n",
    "print('Original Array: \\n', array_flip)\n",
    "print('Flipped Array: \\n', flip)\n"
   ]
  },
  {
   "cell_type": "code",
   "execution_count": 14,
   "id": "adequate-episode",
   "metadata": {
    "scrolled": true
   },
   "outputs": [
    {
     "name": "stdout",
     "output_type": "stream",
     "text": [
      "[[1. 0. 0. 0.]\n",
      " [0. 1. 0. 0.]\n",
      " [0. 0. 1. 0.]\n",
      " [0. 0. 0. 1.]]\n"
     ]
    }
   ],
   "source": [
    "#Creating identical matrix\n",
    "\n",
    "identical = np.eye(4)\n",
    "print(identical)"
   ]
  },
  {
   "cell_type": "code",
   "execution_count": 87,
   "id": "executed-pipeline",
   "metadata": {},
   "outputs": [
    {
     "data": {
      "text/plain": [
       "array([[4.        , 4.47213595],\n",
       "       [5.47722558, 3.16227766]])"
      ]
     },
     "execution_count": 87,
     "metadata": {},
     "output_type": "execute_result"
    }
   ],
   "source": [
    "#Squareroot of array elements\n",
    "\n",
    "array_sqrt = np.array([[16, 20],[30, 10]])\n",
    "\n",
    "np.sqrt(array_sqrt)"
   ]
  },
  {
   "cell_type": "code",
   "execution_count": 13,
   "id": "outer-north",
   "metadata": {},
   "outputs": [
    {
     "name": "stdout",
     "output_type": "stream",
     "text": [
      "Original Array: \n",
      " [[1 2]\n",
      " [3 4]]\n",
      "Transpose of Array: \n",
      " [[1 3]\n",
      " [2 4]]\n"
     ]
    }
   ],
   "source": [
    "#Transpose of Array\n",
    "\n",
    "array_trans = np.array([[1, 2],[3, 4]])\n",
    "print(\"Original Array: \\n\", array_trans)\n",
    "print(\"Transpose of Array: \\n\", array_trans.T)"
   ]
  },
  {
   "cell_type": "code",
   "execution_count": null,
   "id": "handed-headset",
   "metadata": {},
   "outputs": [],
   "source": []
  }
 ],
 "metadata": {
  "kernelspec": {
   "display_name": "Python 3",
   "language": "python",
   "name": "python3"
  },
  "language_info": {
   "codemirror_mode": {
    "name": "ipython",
    "version": 3
   },
   "file_extension": ".py",
   "mimetype": "text/x-python",
   "name": "python",
   "nbconvert_exporter": "python",
   "pygments_lexer": "ipython3",
   "version": "3.9.1"
  }
 },
 "nbformat": 4,
 "nbformat_minor": 5
}
